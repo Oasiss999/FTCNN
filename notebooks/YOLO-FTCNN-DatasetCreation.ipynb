{
 "cells": [
  {
   "cell_type": "code",
   "execution_count": 58,
   "metadata": {
    "scrolled": true
   },
   "outputs": [],
   "source": [
    "import pathlib\n",
    "from datetime import datetime\n",
    "import time\n",
    "\n",
    "import torch\n",
    "from torch import cuda\n",
    "\n",
    "import glob\n",
    "import json\n",
    "import os\n",
    "import shutil\n",
    "import sys\n",
    "import ast\n",
    "import random\n",
    "from pathlib import Path\n",
    "\n",
    "import numpy as np\n",
    "import pandas as pd\n",
    "import geopandas as gpd\n",
    "import skimage.io as io\n",
    "from shapely import Polygon\n",
    "from matplotlib import pyplot as plt\n",
    "from PIL import Image\n",
    "from torch import cuda\n",
    "import supervision as sv\n",
    "from ultralytics import YOLO\n",
    "from concurrent.futures import ThreadPoolExecutor, as_completed\n",
    "from tqdm.auto import tqdm, trange\n",
    "from importlib import reload\n",
    "\n",
    "# Clone FTCNN repo here: https://www.github.com/joeletho/FTCNN.git\n",
    "\n",
    "# Parent directory of cloned repo\n",
    "sys.path.append(CHANGE_ME)\n",
    "\n",
    "import ftcnn\n",
    "\n",
    "from ftcnn import ftcnn as ft"
   ]
  },
  {
   "cell_type": "code",
   "execution_count": 59,
   "metadata": {},
   "outputs": [
    {
     "name": "stdout",
     "output_type": "stream",
     "text": [
      "3.10.12 | packaged by conda-forge | (main, Jun 23 2023, 22:40:32) [GCC 12.3.0]\n"
     ]
    }
   ],
   "source": [
    "print(sys.version)"
   ]
  },
  {
   "cell_type": "code",
   "execution_count": 60,
   "metadata": {},
   "outputs": [
    {
     "name": "stdout",
     "output_type": "stream",
     "text": [
      "<module 'ftcnn' from '/home/joel/Dev/python/ftcnn/__init__.py'>\n"
     ]
    }
   ],
   "source": [
    "print(reload(ftcnn))"
   ]
  },
  {
   "cell_type": "code",
   "execution_count": 61,
   "metadata": {},
   "outputs": [
    {
     "name": "stdout",
     "output_type": "stream",
     "text": [
      "cuda\n",
      "NVIDIA GeForce RTX 3050 Ti Laptop GPU\n"
     ]
    }
   ],
   "source": [
    "has_gpu = cuda.is_available()\n",
    "\n",
    "device = torch.device('cuda' if has_gpu else 'cpu')\n",
    "print(device)\n",
    "if has_gpu:\n",
    "    print(cuda.get_device_name(0))"
   ]
  },
  {
   "cell_type": "markdown",
   "metadata": {},
   "source": [
    "#### Example directory structure:\n",
    "```\n",
    "Root\n",
    "  ├── datasets\n",
    "  ├── FTCNN_YOLO\n",
    "  ├── models\n",
    "  ├── NDVI\n",
    "  ├── QGIS\n",
    "  ├── Readme.txt\n",
    "  ├── runs\n",
    "  ├── Shapefiles\n",
    "```"
   ]
  },
  {
   "cell_type": "code",
   "execution_count": 62,
   "metadata": {
    "id": "glo7hYL73EVo"
   },
   "outputs": [],
   "source": [
    "path_map = {'ROOT': Path(CHANGE_ME_TO_YOUR_LOCAL_DIR)}\n",
    "path_map['NDVI'] = path_map['ROOT'] / 'NDVI' / 'NDVI Difference Rasters'\n",
    "path_map['SHAPE_FILES'] = path_map['ROOT'] / 'Shapefiles'"
   ]
  },
  {
   "cell_type": "code",
   "execution_count": 63,
   "metadata": {},
   "outputs": [],
   "source": [
    "CHIP_SIZE = 128\n",
    "YEARS=(2022, 2023)\n",
    "PRETRAINED=True\n",
    "SPLIT_MODE='all'\n",
    "path_map['MODEL_NAME'] = f\"yolo_ftcnn_img-years={YEARS[0]}-{YEARS[1]}_geom-years=ALL_chipsz={CHIP_SIZE if CHIP_SIZE is not None else 'Default'}_{SPLIT_MODE}\"\n",
    "\n",
    "path_map['PROJECT_NAME'] = 'FTCNN_YOLO'"
   ]
  },
  {
   "cell_type": "code",
   "execution_count": 64,
   "metadata": {},
   "outputs": [],
   "source": [
    "path_map['FTCNN'] = path_map['ROOT'] / path_map[\"PROJECT_NAME\"]\n",
    "\n",
    "path_map['FTCNN_DS'] = path_map['ROOT'] / 'datasets'\n",
    "path_map['FTCNN_DS_META'] = path_map['FTCNN_DS'] / 'meta'\n",
    "path_map['FTCNN_DS_CSV'] = path_map['FTCNN_DS_META'] / 'csv'\n",
    "path_map['FTCNN_DS_SHP'] = path_map['FTCNN_DS_META'] / 'shp'\n",
    "\n",
    "path_map['FTCNN_DS_MODEL'] = path_map['ROOT'] / 'datasets' / path_map['MODEL_NAME']\n",
    "path_map['FTCNN_DS_MODEL_META'] = path_map['FTCNN_DS_MODEL'] / 'meta'\n",
    "path_map['FTCNN_DS_MODEL_SHP'] = path_map['FTCNN_DS_MODEL_META'] / 'shp'\n",
    "path_map['FTCNN_DS_MODEL_CSV'] = path_map['FTCNN_DS_MODEL_META'] / 'csv'\n",
    "\n",
    "path_map['FTCNN_MODEL'] = path_map['FTCNN'] / path_map['MODEL_NAME']\n",
    "\n",
    "path_map['FTCNN_DATA'] = path_map['FTCNN_MODEL'] / 'meta'\n",
    "path_map['FTCNN_CONFIG_FILE'] = path_map['FTCNN_MODEL'] / 'config' / 'data.yaml'\n",
    "path_map['FTCNN_YOLO_DATA_FILE'] = path_map['FTCNN_DATA'] / 'yolo_ndvi_ds.csv'\n",
    "\n",
    "# Images and labels\n",
    "path_map['FTCNN_IMAGES'] = path_map['FTCNN_MODEL'] / 'images'\n",
    "path_map['FTCNN_LABELS'] = path_map['FTCNN_MODEL'] / 'labels'\n",
    "path_map['FTCNN_LABELS_GENERATED'] = path_map['FTCNN_LABELS'] / 'generated'\n",
    "\n",
    "path_map['FTCNN_CHIPS'] = path_map[\"FTCNN_IMAGES\"] / 'chips'\n",
    "path_map['FTCNN_PNGS'] = path_map[\"FTCNN_IMAGES\"] / 'png'\n",
    "path_map['FTCNN_TIFS'] = path_map[\"FTCNN_IMAGES\"] / 'tif'\n",
    "\n",
    "path_map['FTCNN_IMAGES_TRAIN'] = path_map['FTCNN_IMAGES'] / 'train'\n",
    "path_map['FTCNN_IMAGES_TEST'] = path_map['FTCNN_IMAGES'] / 'test'\n",
    "path_map['FTCNN_IMAGES_VAL'] = path_map['FTCNN_IMAGES'] / 'val'\n",
    "\n",
    "path_map['FTCNN_LABELS_TRAIN'] = path_map['FTCNN_LABELS'] / 'train'\n",
    "path_map['FTCNN_LABELS_TEST'] = path_map['FTCNN_LABELS'] / 'test'\n",
    "path_map['FTCNN_LABELS_VAL'] = path_map['FTCNN_LABELS'] / 'val'\n",
    "\n",
    "# Data\n",
    "path_map['PRED_SHP'] = path_map['SHAPE_FILES'] / 'ModelPredictions'\n",
    "\n",
    "# Zone 10\n",
    "path_map['SHPZ10_SHP'] = path_map['SHAPE_FILES'] / 'Treatments_UTMz10_Only_08-18-24' / 'Treatments_UTMz10_Only_08-18-24.shp'\n",
    "path_map['CSVZ10'] = path_map['FTCNN_DATA'] / 'Treatments_UTMz10.csv'\n",
    "path_map['CSVZ10_NORM'] = path_map['FTCNN_DATA'] / 'Treatments_UTMz10_normalized.csv'\n",
    "path_map['CSVZ10_CLEANED'] = path_map['FTCNN_DATA'] / 'Treatments_UTMz10_normalized_cleaned.csv'\n",
    "path_map['CSVZ10_CHIPPED'] = path_map['FTCNN_DATA'] / 'Treatments_UTMz10_normalized_chipped.csv'\n",
    "path_map['CSVZ10_CHIP_LABELS_UTM'] = path_map['FTCNN_DATA'] / 'Treatments_z10utm_chip_labels.csv'\n",
    "path_map['CSVZ10_CHIP_LABELS_PIXEL'] = path_map['FTCNN_DATA'] / 'Treatments_z10pixel_chip_labels.csv'\n",
    "path_map['CSVZ10_CHIP_LABELS_PIXEL_ENCODED'] = path_map['FTCNN_DATA'] / 'Treatments_z10pixel_chip_labels_encoded.csv'\n",
    "path_map['CSVZ10_CHIP_LABELS_PREYOLO'] = path_map['FTCNN_DATA'] / 'Treatments_z10pixel_chip_labels_encoded_preyolo.csv'\n",
    "path_map['SHPZ10_PRED_SHP'] = path_map['PRED_SHP'] / f\"Treatmentsz10_{path_map['MODEL_NAME']}.shp\"\n",
    "\n",
    "# Zone 11\n",
    "path_map['SHPZ11_SHP'] = path_map['SHAPE_FILES'] / 'Treatments_UTMz11_Only_08-18-24' / 'Treatments_UTMz11_Only_08-18-24.shp'\n",
    "path_map['CSVZ11'] = path_map['FTCNN_DATA'] / 'Treatments_UTMz11.csv'\n",
    "path_map['CSVZ11_NORM'] = path_map['FTCNN_DATA'] / 'Treatments_UTMz11_normalized.csv'\n",
    "path_map['CSVZ11_CLEANED'] = path_map['FTCNN_DATA'] / 'Treatments_UTMz11_normalized_cleaned.csv'\n",
    "path_map['CSVZ11_CHIPPED'] = path_map['FTCNN_DATA'] / 'Treatments_UTMz11_normalized_chipped.csv'\n",
    "path_map['CSVZ11_CHIP_LABELS_UTM'] = path_map['FTCNN_DATA'] / 'Treatments_z11utm_chip_labels.csv'\n",
    "path_map['CSVZ11_CHIP_LABELS_PIXEL'] = path_map['FTCNN_DATA'] / 'Treatments_z11pixel_chip_labels.csv'\n",
    "path_map['CSVZ11_CHIP_LABELS_PIXEL_ENCODED'] = path_map['FTCNN_DATA'] / 'Treatments_z11pixel_chip_labels_encoded.csv'\n",
    "path_map['CSVZ11_CHIP_LABELS_PREYOLO'] = path_map['FTCNN_DATA'] / 'Treatments_z11pixel_chip_labels_encoded_preyolo.csv'\n",
    "path_map['SHPZ11_PRED_SHP'] = path_map['PRED_SHP'] / f\"Treatmentsz11_{path_map['MODEL_NAME']}.shp\"\n"
   ]
  },
  {
   "cell_type": "code",
   "execution_count": 65,
   "metadata": {
    "scrolled": true
   },
   "outputs": [
    {
     "name": "stdout",
     "output_type": "stream",
     "text": [
      "Creating directory structure\n",
      "   /home/joel/Dev/school/ssu-ai/ForestTreatment-CNN\n",
      "   /home/joel/Dev/school/ssu-ai/ForestTreatment-CNN/NDVI/NDVI Difference Rasters\n",
      "   /home/joel/Dev/school/ssu-ai/ForestTreatment-CNN/Shapefiles\n",
      "   /home/joel/Dev/school/ssu-ai/ForestTreatment-CNN/FTCNN_YOLO\n",
      "   /home/joel/Dev/school/ssu-ai/ForestTreatment-CNN/datasets\n",
      "   /home/joel/Dev/school/ssu-ai/ForestTreatment-CNN/datasets/meta\n",
      "   /home/joel/Dev/school/ssu-ai/ForestTreatment-CNN/datasets/meta/csv\n",
      "   /home/joel/Dev/school/ssu-ai/ForestTreatment-CNN/datasets/meta/shp\n",
      "   /home/joel/Dev/school/ssu-ai/ForestTreatment-CNN/datasets/yolo_ftcnn_img-years=2022-2023_geom-years=ALL_chipsz=128_all\n",
      "   /home/joel/Dev/school/ssu-ai/ForestTreatment-CNN/datasets/yolo_ftcnn_img-years=2022-2023_geom-years=ALL_chipsz=128_all/meta\n",
      "   /home/joel/Dev/school/ssu-ai/ForestTreatment-CNN/datasets/yolo_ftcnn_img-years=2022-2023_geom-years=ALL_chipsz=128_all/meta/shp\n",
      "   /home/joel/Dev/school/ssu-ai/ForestTreatment-CNN/datasets/yolo_ftcnn_img-years=2022-2023_geom-years=ALL_chipsz=128_all/meta/csv\n",
      "   /home/joel/Dev/school/ssu-ai/ForestTreatment-CNN/FTCNN_YOLO/yolo_ftcnn_img-years=2022-2023_geom-years=ALL_chipsz=128_all\n",
      "   /home/joel/Dev/school/ssu-ai/ForestTreatment-CNN/FTCNN_YOLO/yolo_ftcnn_img-years=2022-2023_geom-years=ALL_chipsz=128_all/meta\n",
      "   /home/joel/Dev/school/ssu-ai/ForestTreatment-CNN/FTCNN_YOLO/yolo_ftcnn_img-years=2022-2023_geom-years=ALL_chipsz=128_all/images\n",
      "   /home/joel/Dev/school/ssu-ai/ForestTreatment-CNN/FTCNN_YOLO/yolo_ftcnn_img-years=2022-2023_geom-years=ALL_chipsz=128_all/labels\n",
      "   /home/joel/Dev/school/ssu-ai/ForestTreatment-CNN/FTCNN_YOLO/yolo_ftcnn_img-years=2022-2023_geom-years=ALL_chipsz=128_all/labels/generated\n",
      "   /home/joel/Dev/school/ssu-ai/ForestTreatment-CNN/FTCNN_YOLO/yolo_ftcnn_img-years=2022-2023_geom-years=ALL_chipsz=128_all/images/chips\n",
      "   /home/joel/Dev/school/ssu-ai/ForestTreatment-CNN/FTCNN_YOLO/yolo_ftcnn_img-years=2022-2023_geom-years=ALL_chipsz=128_all/images/png\n",
      "   /home/joel/Dev/school/ssu-ai/ForestTreatment-CNN/FTCNN_YOLO/yolo_ftcnn_img-years=2022-2023_geom-years=ALL_chipsz=128_all/images/tif\n",
      "   /home/joel/Dev/school/ssu-ai/ForestTreatment-CNN/FTCNN_YOLO/yolo_ftcnn_img-years=2022-2023_geom-years=ALL_chipsz=128_all/images/train\n",
      "   /home/joel/Dev/school/ssu-ai/ForestTreatment-CNN/FTCNN_YOLO/yolo_ftcnn_img-years=2022-2023_geom-years=ALL_chipsz=128_all/images/test\n",
      "   /home/joel/Dev/school/ssu-ai/ForestTreatment-CNN/FTCNN_YOLO/yolo_ftcnn_img-years=2022-2023_geom-years=ALL_chipsz=128_all/images/val\n",
      "   /home/joel/Dev/school/ssu-ai/ForestTreatment-CNN/FTCNN_YOLO/yolo_ftcnn_img-years=2022-2023_geom-years=ALL_chipsz=128_all/labels/train\n",
      "   /home/joel/Dev/school/ssu-ai/ForestTreatment-CNN/FTCNN_YOLO/yolo_ftcnn_img-years=2022-2023_geom-years=ALL_chipsz=128_all/labels/test\n",
      "   /home/joel/Dev/school/ssu-ai/ForestTreatment-CNN/FTCNN_YOLO/yolo_ftcnn_img-years=2022-2023_geom-years=ALL_chipsz=128_all/labels/val\n",
      "   /home/joel/Dev/school/ssu-ai/ForestTreatment-CNN/Shapefiles/ModelPredictions\n",
      "Complete\n"
     ]
    }
   ],
   "source": [
    "print(\"Creating directory structure\")\n",
    "for name, path in path_map.items():\n",
    "    if isinstance(path, Path) and not path.suffix:\n",
    "        path = path.resolve()\n",
    "        path_map[name] = path\n",
    "        path.mkdir(parents=True, exist_ok=True)\n",
    "        print('  ',path)\n",
    "print(\"Complete\")"
   ]
  },
  {
   "cell_type": "code",
   "execution_count": 66,
   "metadata": {},
   "outputs": [],
   "source": [
    "# Make custom class parser (if required)\n",
    "def classify(row):\n",
    "    geom = row.get('geometry')\n",
    "    return (\"0\", \"Treatment\") if geom is not None and not geom.is_empty and geom.area > 1 else (\"-1\", \"Background\")"
   ]
  },
  {
   "cell_type": "code",
   "execution_count": 68,
   "metadata": {
    "scrolled": true
   },
   "outputs": [],
   "source": [
    "shpz10 = ftcnn.load_shapefile(path_map['SHPZ10_SHP'])\n",
    "print(shpz10.head())"
   ]
  },
  {
   "cell_type": "code",
   "execution_count": 69,
   "metadata": {},
   "outputs": [],
   "source": [
    "# shpz10['StartYear'] = \"2022\"\n",
    "# shpz10['EndYear'] = \"2023\"\n",
    "\n",
    "# Filter Treatments by code\n",
    "shpz10 = shpz10[shpz10['TreatmentT'] == \"6\"] \n",
    "\n",
    "# Fixes naming error in the original shape file\n",
    "shpz10.loc[shpz10['Subregion'] == \"Humboldt\", \"Subregion\"] = 'Humboldt4'\n",
    "shpz10.head()"
   ]
  },
  {
   "cell_type": "code",
   "execution_count": 70,
   "metadata": {},
   "outputs": [],
   "source": [
    "ftcnn.save_as_csv(shpz10, path_map['FTCNN_DS_CSV'] / f'base_all_years={YEARS[0]}to{YEARS[1]}' / 'Treatments_UTMz10_Only_08-18-24.csv', exist_ok=True)\n",
    "ftcnn.save_as_shp(shpz10, path_map['FTCNN_DS_SHP'] / f'base_all_years={YEARS[0]}to{YEARS[1]}'/ 'Treatments_UTMz10_Only_08-18-24.shp', exist_ok=True)"
   ]
  },
  {
   "cell_type": "code",
   "execution_count": 71,
   "metadata": {
    "scrolled": true
   },
   "outputs": [],
   "source": [
    "gdf = ftcnn.preprocess_shapefile(\n",
    "    path_map['FTCNN_DS_SHP'] / 'base_all_years=2022to2023'/ 'Treatments_UTMz10_Only_08-18-24.shp',\n",
    "    id_column=\"Subregion\",\n",
    "    img_dir=path_map['NDVI'],\n",
    ")"
   ]
  },
  {
   "cell_type": "code",
   "execution_count": 72,
   "metadata": {},
   "outputs": [],
   "source": [
    "ftcnn.save_as_csv(gdf, path_map['FTCNN_DS_CSV'] / f'preprocessed_all_years={YEARS[0]}to{YEARS[1]}'/ 'Treatments_UTMz10_Only_08-18-24_flattened.csv', exist_ok=True)\n",
    "ftcnn.save_as_shp(gdf, path_map['FTCNN_DS_SHP'] / f'preprocessed_all_years={YEARS[0]}to{YEARS[1]}'/ 'Treatments_UTMz10_Only_08-18-24_flattened.shp', exist_ok=True)"
   ]
  },
  {
   "cell_type": "code",
   "execution_count": null,
   "metadata": {},
   "outputs": [],
   "source": []
  },
  {
   "cell_type": "code",
   "execution_count": 73,
   "metadata": {},
   "outputs": [],
   "source": [
    "# gdf, paths = ftcnn.make_ndvi_dataset(\n",
    "#     path_map['FTCNN_DS_SHP'] / 'base_all_years=2022to2023'/ 'Treatments_UTMz10_Only_08-18-24.shp',\n",
    "#     ndvi_dir=path_map['NDVI'],\n",
    "#     output_dir=path_map['FTCNN_DS_MODEL'],\n",
    "#     id_column=\"Subregion\",\n",
    "#     start_year_col=\"start_year\",\n",
    "#     end_year_col=\"end_year\",\n",
    "#     chip_size=CHIP_SIZE,\n",
    "#     clean_dest=True,\n",
    "#     xy_to_index=False,\n",
    "#     exist_ok=True,\n",
    "#     save_csv=True,\n",
    "#     save_shp=True,\n",
    "#     ignore_empty_geom=True,\n",
    "#     tif_to_png=True,\n",
    "#     leave=True,\n",
    "# )"
   ]
  },
  {
   "cell_type": "code",
   "execution_count": 74,
   "metadata": {},
   "outputs": [
    {
     "name": "stdout",
     "output_type": "stream",
     "text": [
      "<module 'ftcnn.ftcnn' from '/home/joel/Dev/python/ftcnn/ftcnn.py'>\n",
      "<module 'ftcnn.ftcnn' from '/home/joel/Dev/python/ftcnn/ftcnn.py'>\n",
      "<module 'ftcnn.utils' from '/home/joel/Dev/python/ftcnn/utils.py'>\n",
      "<module 'ftcnn.modeling' from '/home/joel/Dev/python/ftcnn/modeling/__init__.py'>\n",
      "<module 'ftcnn.modeling.yolo' from '/home/joel/Dev/python/ftcnn/modeling/yolo.py'>\n"
     ]
    }
   ],
   "source": [
    "print(reload(ftcnn.ftcnn))\n",
    "print(reload(ft))\n",
    "print(reload(ftcnn.utils))\n",
    "print(reload(ftcnn.modeling))\n",
    "print(reload(ftcnn.modeling.yolo))\n"
   ]
  },
  {
   "cell_type": "code",
   "execution_count": 75,
   "metadata": {},
   "outputs": [
    {
     "data": {
      "application/vnd.jupyter.widget-view+json": {
       "model_id": "",
       "version_major": 2,
       "version_minor": 0
      },
      "text/plain": [
       "Creating NDVI dataset - Preprocessing shapefile:   0%|          | 0/6 [00:00<?, ?it/s]"
      ]
     },
     "metadata": {},
     "output_type": "display_data"
    },
    {
     "data": {
      "application/vnd.jupyter.widget-view+json": {
       "model_id": "",
       "version_major": 2,
       "version_minor": 0
      },
      "text/plain": [
       "Flattening geometry:   0%|          | 0/28 [00:00<?, ?it/s]"
      ]
     },
     "metadata": {},
     "output_type": "display_data"
    },
    {
     "data": {
      "application/vnd.jupyter.widget-view+json": {
       "model_id": "",
       "version_major": 2,
       "version_minor": 0
      },
      "text/plain": [
       "Collecting image data:   0%|          | 0/247 [00:00<?, ?it/s]"
      ]
     },
     "metadata": {},
     "output_type": "display_data"
    },
    {
     "data": {
      "application/vnd.jupyter.widget-view+json": {
       "model_id": "",
       "version_major": 2,
       "version_minor": 0
      },
      "text/plain": [
       "Cleaning output directory:   0%|          | 0/1 [00:00<?, ?it/s]"
      ]
     },
     "metadata": {},
     "output_type": "display_data"
    },
    {
     "data": {
      "application/vnd.jupyter.widget-view+json": {
       "model_id": "",
       "version_major": 2,
       "version_minor": 0
      },
      "text/plain": [
       "Creating GeoTIFF chips of size (128,128):   0%|          | 0/29 [00:00<?, ?it/s]"
      ]
     },
     "metadata": {},
     "output_type": "display_data"
    },
    {
     "data": {
      "application/vnd.jupyter.widget-view+json": {
       "model_id": "",
       "version_major": 2,
       "version_minor": 0
      },
      "text/plain": [
       "Processing ElDorado2_2022to2023_NDVI_Difference.tif:   0%|          | 0/35 [00:00<?, ?it/s]"
      ]
     },
     "metadata": {},
     "output_type": "display_data"
    },
    {
     "data": {
      "application/vnd.jupyter.widget-view+json": {
       "model_id": "",
       "version_major": 2,
       "version_minor": 0
      },
      "text/plain": [
       "Processing Latour2022to2023_NDVI_Difference.tif:   0%|          | 0/21 [00:00<?, ?it/s]"
      ]
     },
     "metadata": {},
     "output_type": "display_data"
    },
    {
     "data": {
      "application/vnd.jupyter.widget-view+json": {
       "model_id": "",
       "version_major": 2,
       "version_minor": 0
      },
      "text/plain": [
       "Processing Pulmas1_2022to2023_NDVI_Difference.tif:   0%|          | 0/74 [00:00<?, ?it/s]"
      ]
     },
     "metadata": {},
     "output_type": "display_data"
    },
    {
     "data": {
      "application/vnd.jupyter.widget-view+json": {
       "model_id": "",
       "version_major": 2,
       "version_minor": 0
      },
      "text/plain": [
       "Processing ElDorado3_2022to2023_NDVI_Difference.tif:   0%|          | 0/19 [00:00<?, ?it/s]"
      ]
     },
     "metadata": {},
     "output_type": "display_data"
    },
    {
     "data": {
      "application/vnd.jupyter.widget-view+json": {
       "model_id": "",
       "version_major": 2,
       "version_minor": 0
      },
      "text/plain": [
       "Processing Humboldt5_2022to2023_NDVI_Difference.tif:   0%|          | 0/100 [00:00<?, ?it/s]"
      ]
     },
     "metadata": {},
     "output_type": "display_data"
    },
    {
     "data": {
      "application/vnd.jupyter.widget-view+json": {
       "model_id": "",
       "version_major": 2,
       "version_minor": 0
      },
      "text/plain": [
       "Processing ElDorado1_2022to2023_NDVI_Difference.tif:   0%|          | 0/44 [00:00<?, ?it/s]"
      ]
     },
     "metadata": {},
     "output_type": "display_data"
    },
    {
     "data": {
      "application/vnd.jupyter.widget-view+json": {
       "model_id": "",
       "version_major": 2,
       "version_minor": 0
      },
      "text/plain": [
       "Processing ElDorado4_2022to2023_NDVI_Difference.tif:   0%|          | 0/44 [00:00<?, ?it/s]"
      ]
     },
     "metadata": {},
     "output_type": "display_data"
    },
    {
     "data": {
      "application/vnd.jupyter.widget-view+json": {
       "model_id": "",
       "version_major": 2,
       "version_minor": 0
      },
      "text/plain": [
       "Processing Placer1_2022to2023_NDVI_Difference.tif:   0%|          | 0/56 [00:00<?, ?it/s]"
      ]
     },
     "metadata": {},
     "output_type": "display_data"
    },
    {
     "data": {
      "application/vnd.jupyter.widget-view+json": {
       "model_id": "",
       "version_major": 2,
       "version_minor": 0
      },
      "text/plain": [
       "Processing Pulmas2_2022to2023_NDVI_Difference.tif:   0%|          | 0/40 [00:00<?, ?it/s]"
      ]
     },
     "metadata": {},
     "output_type": "display_data"
    },
    {
     "data": {
      "application/vnd.jupyter.widget-view+json": {
       "model_id": "",
       "version_major": 2,
       "version_minor": 0
      },
      "text/plain": [
       "Processing Lassen1_2022to2023_NDVI_Difference.tif:   0%|          | 0/86 [00:00<?, ?it/s]"
      ]
     },
     "metadata": {},
     "output_type": "display_data"
    },
    {
     "data": {
      "application/vnd.jupyter.widget-view+json": {
       "model_id": "",
       "version_major": 2,
       "version_minor": 0
      },
      "text/plain": [
       "Processing Calaveras1_2022to2023_NDVI_Difference.tif:   0%|          | 0/61 [00:00<?, ?it/s]"
      ]
     },
     "metadata": {},
     "output_type": "display_data"
    },
    {
     "data": {
      "application/vnd.jupyter.widget-view+json": {
       "model_id": "",
       "version_major": 2,
       "version_minor": 0
      },
      "text/plain": [
       "Processing Jackson2022to2023_NDVI_Difference.tif:   0%|          | 0/38 [00:00<?, ?it/s]"
      ]
     },
     "metadata": {},
     "output_type": "display_data"
    },
    {
     "data": {
      "application/vnd.jupyter.widget-view+json": {
       "model_id": "",
       "version_major": 2,
       "version_minor": 0
      },
      "text/plain": [
       "Processing Humboldt4_2022to2023_NDVI_Difference.tif:   0%|          | 0/101 [00:00<?, ?it/s]"
      ]
     },
     "metadata": {},
     "output_type": "display_data"
    },
    {
     "data": {
      "application/vnd.jupyter.widget-view+json": {
       "model_id": "",
       "version_major": 2,
       "version_minor": 0
      },
      "text/plain": [
       "Processing SanBenito1_2022to2023_NDVI_Difference.tif:   0%|          | 0/60 [00:00<?, ?it/s]"
      ]
     },
     "metadata": {},
     "output_type": "display_data"
    },
    {
     "data": {
      "application/vnd.jupyter.widget-view+json": {
       "model_id": "",
       "version_major": 2,
       "version_minor": 0
      },
      "text/plain": [
       "Processing Pulmas3_2022to2023_NDVI_Difference.tif:   0%|          | 0/23 [00:00<?, ?it/s]"
      ]
     },
     "metadata": {},
     "output_type": "display_data"
    },
    {
     "data": {
      "application/vnd.jupyter.widget-view+json": {
       "model_id": "",
       "version_major": 2,
       "version_minor": 0
      },
      "text/plain": [
       "Processing SanLuisObispo3_2022to2023_NDVI_Difference.tif:   0%|          | 0/57 [00:00<?, ?it/s]"
      ]
     },
     "metadata": {},
     "output_type": "display_data"
    },
    {
     "data": {
      "application/vnd.jupyter.widget-view+json": {
       "model_id": "",
       "version_major": 2,
       "version_minor": 0
      },
      "text/plain": [
       "Processing SanLuisObispo3_Expanded_2022to2023_NDVI_Difference.tif:   0%|          | 0/72 [00:00<?, ?it/s]"
      ]
     },
     "metadata": {},
     "output_type": "display_data"
    },
    {
     "data": {
      "application/vnd.jupyter.widget-view+json": {
       "model_id": "",
       "version_major": 2,
       "version_minor": 0
      },
      "text/plain": [
       "Processing SanMateo1_Expanded_2022to2023_NDVI_Difference.tif:   0%|          | 0/23 [00:00<?, ?it/s]"
      ]
     },
     "metadata": {},
     "output_type": "display_data"
    },
    {
     "data": {
      "application/vnd.jupyter.widget-view+json": {
       "model_id": "",
       "version_major": 2,
       "version_minor": 0
      },
      "text/plain": [
       "Processing Sierra1_2022to2023_NDVI_Difference.tif:   0%|          | 0/55 [00:00<?, ?it/s]"
      ]
     },
     "metadata": {},
     "output_type": "display_data"
    },
    {
     "data": {
      "application/vnd.jupyter.widget-view+json": {
       "model_id": "",
       "version_major": 2,
       "version_minor": 0
      },
      "text/plain": [
       "Processing Siskiyou1_2022to2023_NDVI_Difference.tif:   0%|          | 0/33 [00:00<?, ?it/s]"
      ]
     },
     "metadata": {},
     "output_type": "display_data"
    },
    {
     "data": {
      "application/vnd.jupyter.widget-view+json": {
       "model_id": "",
       "version_major": 2,
       "version_minor": 0
      },
      "text/plain": [
       "Processing Siskiyou2_2022to2023_NDVI_Difference.tif:   0%|          | 0/54 [00:00<?, ?it/s]"
      ]
     },
     "metadata": {},
     "output_type": "display_data"
    },
    {
     "data": {
      "application/vnd.jupyter.widget-view+json": {
       "model_id": "",
       "version_major": 2,
       "version_minor": 0
      },
      "text/plain": [
       "Processing Siskiyou3_2022to2023_NDVI_Difference.tif:   0%|          | 0/20 [00:00<?, ?it/s]"
      ]
     },
     "metadata": {},
     "output_type": "display_data"
    },
    {
     "data": {
      "application/vnd.jupyter.widget-view+json": {
       "model_id": "",
       "version_major": 2,
       "version_minor": 0
      },
      "text/plain": [
       "Processing Siskiyou4_2022to2023_NDVI_Difference.tif:   0%|          | 0/115 [00:00<?, ?it/s]"
      ]
     },
     "metadata": {},
     "output_type": "display_data"
    },
    {
     "data": {
      "application/vnd.jupyter.widget-view+json": {
       "model_id": "",
       "version_major": 2,
       "version_minor": 0
      },
      "text/plain": [
       "Processing Soquel2022to2023_NDVI_Difference.tif:   0%|          | 0/10 [00:00<?, ?it/s]"
      ]
     },
     "metadata": {},
     "output_type": "display_data"
    },
    {
     "data": {
      "application/vnd.jupyter.widget-view+json": {
       "model_id": "",
       "version_major": 2,
       "version_minor": 0
      },
      "text/plain": [
       "Processing Trinity1_2022to2023_NDVI_Difference.tif:   0%|          | 0/69 [00:00<?, ?it/s]"
      ]
     },
     "metadata": {},
     "output_type": "display_data"
    },
    {
     "data": {
      "application/vnd.jupyter.widget-view+json": {
       "model_id": "",
       "version_major": 2,
       "version_minor": 0
      },
      "text/plain": [
       "Processing Trinity2_2022to2023_NDVI_Difference.tif:   0%|          | 0/30 [00:00<?, ?it/s]"
      ]
     },
     "metadata": {},
     "output_type": "display_data"
    },
    {
     "data": {
      "application/vnd.jupyter.widget-view+json": {
       "model_id": "",
       "version_major": 2,
       "version_minor": 0
      },
      "text/plain": [
       "Processing Yuba1_2022to2023_NDVI_Difference.tif:   0%|          | 0/81 [00:00<?, ?it/s]"
      ]
     },
     "metadata": {},
     "output_type": "display_data"
    },
    {
     "data": {
      "application/vnd.jupyter.widget-view+json": {
       "model_id": "",
       "version_major": 2,
       "version_minor": 0
      },
      "text/plain": [
       "Mapping geometry to GeoTIFFs:   0%|          | 0/67847 [00:00<?, ?it/s]"
      ]
     },
     "metadata": {},
     "output_type": "display_data"
    },
    {
     "data": {
      "application/vnd.jupyter.widget-view+json": {
       "model_id": "",
       "version_major": 2,
       "version_minor": 0
      },
      "text/plain": [
       "Cleaning up:   0%|          | 0/65153 [00:00<?, ?it/s]"
      ]
     },
     "metadata": {},
     "output_type": "display_data"
    },
    {
     "data": {
      "application/vnd.jupyter.widget-view+json": {
       "model_id": "",
       "version_major": 2,
       "version_minor": 0
      },
      "text/plain": [
       "Translating geometry:   0%|          | 0/3236 [00:00<?, ?it/s]"
      ]
     },
     "metadata": {},
     "output_type": "display_data"
    },
    {
     "data": {
      "application/vnd.jupyter.widget-view+json": {
       "model_id": "",
       "version_major": 2,
       "version_minor": 0
      },
      "text/plain": [
       "Converting TIFF to PNG:   0%|          | 0/2694 [00:00<?, ?it/s]"
      ]
     },
     "metadata": {},
     "output_type": "display_data"
    },
    {
     "data": {
      "application/vnd.jupyter.widget-view+json": {
       "model_id": "",
       "version_major": 2,
       "version_minor": 0
      },
      "text/plain": [
       "Mapping filepaths:   0%|          | 0/3236 [00:00<?, ?it/s]"
      ]
     },
     "metadata": {},
     "output_type": "display_data"
    },
    {
     "name": "stderr",
     "output_type": "stream",
     "text": [
      "RuntimeWarning: Value '/home/joel/Dev/school/ssu-ai/ForestTreatment-CNN/datasets/yolo_ftcnn_img-years=2022-2023_geom-years=ALL_chipsz=128_all/images/png-chips/SanLuisObispo3_Expanded_2022to2023_NDVI_Difference/SanLuisObispo3_Expanded_2022to2023_NDVI_Difference_chip_2688_2560.png' of field path has been truncated to 254 characters.  This warning will not be emitted any more for that layer.\n"
     ]
    },
    {
     "data": {
      "application/vnd.jupyter.widget-view+json": {
       "model_id": "07f2691f5cc34d92af94329b40869f5e",
       "version_major": 2,
       "version_minor": 0
      },
      "text/plain": [
       "Creating YOLO dataset - Encoding classes:   0%|          | 0/4 [00:00<?, ?it/s]"
      ]
     },
     "metadata": {},
     "output_type": "display_data"
    },
    {
     "data": {
      "application/vnd.jupyter.widget-view+json": {
       "model_id": "07cf09ab1b7240cbab7c2bc5987b9c25",
       "version_major": 2,
       "version_minor": 0
      },
      "text/plain": [
       "Encoding class data:   0%|          | 0/3237 [00:00<?, ?it/s]"
      ]
     },
     "metadata": {},
     "output_type": "display_data"
    },
    {
     "name": "stderr",
     "output_type": "stream",
     "text": [
      "RuntimeWarning: Value '/home/joel/Dev/school/ssu-ai/ForestTreatment-CNN/datasets/yolo_ftcnn_img-years=2022-2023_geom-years=ALL_chipsz=128_all/images/png-chips/SanLuisObispo3_Expanded_2022to2023_NDVI_Difference/SanLuisObispo3_Expanded_2022to2023_NDVI_Difference_chip_2688_2560.png' of field path has been truncated to 254 characters.  This warning will not be emitted any more for that layer.\n",
      "UserWarning: Geometry column does not contain geometry.\n"
     ]
    },
    {
     "data": {
      "application/vnd.jupyter.widget-view+json": {
       "model_id": "",
       "version_major": 2,
       "version_minor": 0
      },
      "text/plain": [
       "Collecting images:   0%|          | 0/3154 [00:00<?, ?it/s]"
      ]
     },
     "metadata": {},
     "output_type": "display_data"
    },
    {
     "data": {
      "application/vnd.jupyter.widget-view+json": {
       "model_id": "",
       "version_major": 2,
       "version_minor": 0
      },
      "text/plain": [
       "Compiling YOLODataset labels and images:   0%|          | 0/197 [00:00<?, ?it/s]"
      ]
     },
     "metadata": {},
     "output_type": "display_data"
    },
    {
     "data": {
      "application/vnd.jupyter.widget-view+json": {
       "model_id": "",
       "version_major": 2,
       "version_minor": 0
      },
      "text/plain": [
       "Compiling YOLODataset labels and images:   0%|          | 0/197 [00:00<?, ?it/s]"
      ]
     },
     "metadata": {},
     "output_type": "display_data"
    },
    {
     "data": {
      "application/vnd.jupyter.widget-view+json": {
       "model_id": "",
       "version_major": 2,
       "version_minor": 0
      },
      "text/plain": [
       "Compiling YOLODataset labels and images:   0%|          | 0/197 [00:00<?, ?it/s]"
      ]
     },
     "metadata": {},
     "output_type": "display_data"
    },
    {
     "data": {
      "application/vnd.jupyter.widget-view+json": {
       "model_id": "",
       "version_major": 2,
       "version_minor": 0
      },
      "text/plain": [
       "Compiling YOLODataset labels and images:   0%|          | 0/197 [00:00<?, ?it/s]"
      ]
     },
     "metadata": {},
     "output_type": "display_data"
    },
    {
     "data": {
      "application/vnd.jupyter.widget-view+json": {
       "model_id": "",
       "version_major": 2,
       "version_minor": 0
      },
      "text/plain": [
       "Compiling YOLODataset labels and images:   0%|          | 0/197 [00:00<?, ?it/s]"
      ]
     },
     "metadata": {},
     "output_type": "display_data"
    },
    {
     "data": {
      "application/vnd.jupyter.widget-view+json": {
       "model_id": "",
       "version_major": 2,
       "version_minor": 0
      },
      "text/plain": [
       "Compiling YOLODataset labels and images:   0%|          | 0/197 [00:00<?, ?it/s]"
      ]
     },
     "metadata": {},
     "output_type": "display_data"
    },
    {
     "data": {
      "application/vnd.jupyter.widget-view+json": {
       "model_id": "",
       "version_major": 2,
       "version_minor": 0
      },
      "text/plain": [
       "Compiling YOLODataset labels and images:   0%|          | 0/197 [00:00<?, ?it/s]"
      ]
     },
     "metadata": {},
     "output_type": "display_data"
    },
    {
     "data": {
      "application/vnd.jupyter.widget-view+json": {
       "model_id": "",
       "version_major": 2,
       "version_minor": 0
      },
      "text/plain": [
       "Compiling YOLODataset labels and images:   0%|          | 0/197 [00:00<?, ?it/s]"
      ]
     },
     "metadata": {},
     "output_type": "display_data"
    },
    {
     "data": {
      "application/vnd.jupyter.widget-view+json": {
       "model_id": "",
       "version_major": 2,
       "version_minor": 0
      },
      "text/plain": [
       "Compiling YOLODataset labels and images:   0%|          | 0/197 [00:00<?, ?it/s]"
      ]
     },
     "metadata": {},
     "output_type": "display_data"
    },
    {
     "data": {
      "application/vnd.jupyter.widget-view+json": {
       "model_id": "",
       "version_major": 2,
       "version_minor": 0
      },
      "text/plain": [
       "Compiling YOLODataset labels and images:   0%|          | 0/197 [00:00<?, ?it/s]"
      ]
     },
     "metadata": {},
     "output_type": "display_data"
    },
    {
     "data": {
      "application/vnd.jupyter.widget-view+json": {
       "model_id": "",
       "version_major": 2,
       "version_minor": 0
      },
      "text/plain": [
       "Compiling YOLODataset labels and images:   0%|          | 0/197 [00:00<?, ?it/s]"
      ]
     },
     "metadata": {},
     "output_type": "display_data"
    },
    {
     "data": {
      "application/vnd.jupyter.widget-view+json": {
       "model_id": "",
       "version_major": 2,
       "version_minor": 0
      },
      "text/plain": [
       "Compiling YOLODataset labels and images:   0%|          | 0/197 [00:00<?, ?it/s]"
      ]
     },
     "metadata": {},
     "output_type": "display_data"
    },
    {
     "data": {
      "application/vnd.jupyter.widget-view+json": {
       "model_id": "",
       "version_major": 2,
       "version_minor": 0
      },
      "text/plain": [
       "Compiling YOLODataset labels and images:   0%|          | 0/197 [00:00<?, ?it/s]"
      ]
     },
     "metadata": {},
     "output_type": "display_data"
    },
    {
     "data": {
      "application/vnd.jupyter.widget-view+json": {
       "model_id": "",
       "version_major": 2,
       "version_minor": 0
      },
      "text/plain": [
       "Compiling YOLODataset labels and images:   0%|          | 0/197 [00:00<?, ?it/s]"
      ]
     },
     "metadata": {},
     "output_type": "display_data"
    },
    {
     "data": {
      "application/vnd.jupyter.widget-view+json": {
       "model_id": "",
       "version_major": 2,
       "version_minor": 0
      },
      "text/plain": [
       "Compiling YOLODataset labels and images:   0%|          | 0/197 [00:00<?, ?it/s]"
      ]
     },
     "metadata": {},
     "output_type": "display_data"
    },
    {
     "data": {
      "application/vnd.jupyter.widget-view+json": {
       "model_id": "",
       "version_major": 2,
       "version_minor": 0
      },
      "text/plain": [
       "Compiling YOLODataset labels and images:   0%|          | 0/197 [00:00<?, ?it/s]"
      ]
     },
     "metadata": {},
     "output_type": "display_data"
    },
    {
     "data": {
      "application/vnd.jupyter.widget-view+json": {
       "model_id": "",
       "version_major": 2,
       "version_minor": 0
      },
      "text/plain": [
       "Compiling YOLODataset labels and images:   0%|          | 0/2 [00:00<?, ?it/s]"
      ]
     },
     "metadata": {},
     "output_type": "display_data"
    },
    {
     "name": "stdout",
     "output_type": "stream",
     "text": [
      "Generating /home/joel/Dev/school/ssu-ai/ForestTreatment-CNN/datasets/yolo_ftcnn_img-years=2022-2023_geom-years=ALL_chipsz=128_all/config/data.yaml\n",
      "File saved successfully to /home/joel/Dev/school/ssu-ai/ForestTreatment-CNN/datasets/yolo_ftcnn_img-years=2022-2023_geom-years=ALL_chipsz=128_all/config/data.yaml\n",
      "  Classes: {'Treatment': 0}\n"
     ]
    },
    {
     "data": {
      "application/vnd.jupyter.widget-view+json": {
       "model_id": "3c261cf995094809ba42860a273d8f69",
       "version_major": 2,
       "version_minor": 0
      },
      "text/plain": [
       "Generating labels:   0%|          | 0/3154 [00:00<?, ?it/s]"
      ]
     },
     "metadata": {},
     "output_type": "display_data"
    },
    {
     "name": "stdout",
     "output_type": "stream",
     "text": [
      "Successfully generated 3154 labels to 2667 files in /home/joel/Dev/school/ssu-ai/ForestTreatment-CNN/datasets/yolo_ftcnn_img-years=2022-2023_geom-years=ALL_chipsz=128_all/labels/generated\n"
     ]
    },
    {
     "data": {
      "application/vnd.jupyter.widget-view+json": {
       "model_id": "",
       "version_major": 2,
       "version_minor": 0
      },
      "text/plain": [
       "Copying labels and images:   0%|          | 0/2000 [00:00<?, ?it/s]"
      ]
     },
     "metadata": {},
     "output_type": "display_data"
    },
    {
     "data": {
      "application/vnd.jupyter.widget-view+json": {
       "model_id": "",
       "version_major": 2,
       "version_minor": 0
      },
      "text/plain": [
       "Copying labels and images:   0%|          | 0/667 [00:00<?, ?it/s]"
      ]
     },
     "metadata": {},
     "output_type": "display_data"
    },
    {
     "data": {
      "application/vnd.jupyter.widget-view+json": {
       "model_id": "",
       "version_major": 2,
       "version_minor": 0
      },
      "text/plain": [
       "Compiling YOLODataset labels and images:   0%|          | 0/197 [00:00<?, ?it/s]"
      ]
     },
     "metadata": {},
     "output_type": "display_data"
    },
    {
     "data": {
      "application/vnd.jupyter.widget-view+json": {
       "model_id": "",
       "version_major": 2,
       "version_minor": 0
      },
      "text/plain": [
       "Compiling YOLODataset labels and images:   0%|          | 0/197 [00:00<?, ?it/s]"
      ]
     },
     "metadata": {},
     "output_type": "display_data"
    },
    {
     "data": {
      "application/vnd.jupyter.widget-view+json": {
       "model_id": "",
       "version_major": 2,
       "version_minor": 0
      },
      "text/plain": [
       "Compiling YOLODataset labels and images:   0%|          | 0/197 [00:00<?, ?it/s]"
      ]
     },
     "metadata": {},
     "output_type": "display_data"
    },
    {
     "data": {
      "application/vnd.jupyter.widget-view+json": {
       "model_id": "",
       "version_major": 2,
       "version_minor": 0
      },
      "text/plain": [
       "Compiling YOLODataset labels and images:   0%|          | 0/197 [00:00<?, ?it/s]"
      ]
     },
     "metadata": {},
     "output_type": "display_data"
    },
    {
     "data": {
      "application/vnd.jupyter.widget-view+json": {
       "model_id": "",
       "version_major": 2,
       "version_minor": 0
      },
      "text/plain": [
       "Compiling YOLODataset labels and images:   0%|          | 0/197 [00:00<?, ?it/s]"
      ]
     },
     "metadata": {},
     "output_type": "display_data"
    },
    {
     "data": {
      "application/vnd.jupyter.widget-view+json": {
       "model_id": "",
       "version_major": 2,
       "version_minor": 0
      },
      "text/plain": [
       "Compiling YOLODataset labels and images:   0%|          | 0/197 [00:00<?, ?it/s]"
      ]
     },
     "metadata": {},
     "output_type": "display_data"
    },
    {
     "data": {
      "application/vnd.jupyter.widget-view+json": {
       "model_id": "",
       "version_major": 2,
       "version_minor": 0
      },
      "text/plain": [
       "Compiling YOLODataset labels and images:   0%|          | 0/197 [00:00<?, ?it/s]"
      ]
     },
     "metadata": {},
     "output_type": "display_data"
    },
    {
     "data": {
      "application/vnd.jupyter.widget-view+json": {
       "model_id": "",
       "version_major": 2,
       "version_minor": 0
      },
      "text/plain": [
       "Compiling YOLODataset labels and images:   0%|          | 0/197 [00:00<?, ?it/s]"
      ]
     },
     "metadata": {},
     "output_type": "display_data"
    },
    {
     "data": {
      "application/vnd.jupyter.widget-view+json": {
       "model_id": "",
       "version_major": 2,
       "version_minor": 0
      },
      "text/plain": [
       "Compiling YOLODataset labels and images:   0%|          | 0/197 [00:00<?, ?it/s]"
      ]
     },
     "metadata": {},
     "output_type": "display_data"
    },
    {
     "data": {
      "application/vnd.jupyter.widget-view+json": {
       "model_id": "",
       "version_major": 2,
       "version_minor": 0
      },
      "text/plain": [
       "Compiling YOLODataset labels and images:   0%|          | 0/197 [00:00<?, ?it/s]"
      ]
     },
     "metadata": {},
     "output_type": "display_data"
    },
    {
     "data": {
      "application/vnd.jupyter.widget-view+json": {
       "model_id": "",
       "version_major": 2,
       "version_minor": 0
      },
      "text/plain": [
       "Compiling YOLODataset labels and images:   0%|          | 0/197 [00:00<?, ?it/s]"
      ]
     },
     "metadata": {},
     "output_type": "display_data"
    },
    {
     "data": {
      "application/vnd.jupyter.widget-view+json": {
       "model_id": "",
       "version_major": 2,
       "version_minor": 0
      },
      "text/plain": [
       "Compiling YOLODataset labels and images:   0%|          | 0/197 [00:00<?, ?it/s]"
      ]
     },
     "metadata": {},
     "output_type": "display_data"
    },
    {
     "data": {
      "application/vnd.jupyter.widget-view+json": {
       "model_id": "",
       "version_major": 2,
       "version_minor": 0
      },
      "text/plain": [
       "Compiling YOLODataset labels and images:   0%|          | 0/197 [00:00<?, ?it/s]"
      ]
     },
     "metadata": {},
     "output_type": "display_data"
    },
    {
     "data": {
      "application/vnd.jupyter.widget-view+json": {
       "model_id": "",
       "version_major": 2,
       "version_minor": 0
      },
      "text/plain": [
       "Compiling YOLODataset labels and images:   0%|          | 0/197 [00:00<?, ?it/s]"
      ]
     },
     "metadata": {},
     "output_type": "display_data"
    },
    {
     "data": {
      "application/vnd.jupyter.widget-view+json": {
       "model_id": "",
       "version_major": 2,
       "version_minor": 0
      },
      "text/plain": [
       "Compiling YOLODataset labels and images:   0%|          | 0/197 [00:00<?, ?it/s]"
      ]
     },
     "metadata": {},
     "output_type": "display_data"
    },
    {
     "data": {
      "application/vnd.jupyter.widget-view+json": {
       "model_id": "",
       "version_major": 2,
       "version_minor": 0
      },
      "text/plain": [
       "Compiling YOLODataset labels and images:   0%|          | 0/197 [00:00<?, ?it/s]"
      ]
     },
     "metadata": {},
     "output_type": "display_data"
    },
    {
     "data": {
      "application/vnd.jupyter.widget-view+json": {
       "model_id": "",
       "version_major": 2,
       "version_minor": 0
      },
      "text/plain": [
       "Compiling YOLODataset labels and images:   0%|          | 0/2 [00:00<?, ?it/s]"
      ]
     },
     "metadata": {},
     "output_type": "display_data"
    }
   ],
   "source": [
    "yolo_ds,_ = ft.ndvi_to_yolo_dataset(\n",
    "    path_map['FTCNN_DS_SHP'] / 'base_all_years=2022to2023'/ 'Treatments_UTMz10_Only_08-18-24.shp',\n",
    "    ndvi_dir=path_map['NDVI'],\n",
    "    output_dir=path_map['FTCNN_DS_MODEL'],\n",
    "    id_column=\"Subregion\",\n",
    "    start_year_col=\"start_year\",\n",
    "    end_year_col=\"end_year\",\n",
    "    chip_size=CHIP_SIZE,\n",
    "    clean_dest=True,\n",
    "    xy_to_index=True,\n",
    "    exist_ok=True,\n",
    "    save_csv=True,\n",
    "    save_shp=True,\n",
    "    ignore_empty_geom=True,\n",
    "    generate_train_data=True,\n",
    "    tif_to_png=True,\n",
    "    split_mode=SPLIT_MODE,\n",
    "    shuffle=False,\n",
    ")"
   ]
  },
  {
   "cell_type": "code",
   "execution_count": 76,
   "metadata": {},
   "outputs": [
    {
     "name": "stdout",
     "output_type": "stream",
     "text": [
      "YOLO Dataset summary\n",
      "Number of labels: 3154\n",
      "Number of images: 2667\n",
      "Number of classes: 1\n",
      "Training data: 2000 images, 2357 labels\n",
      "Validation data: 667 images, 797 labels\n",
      "Class distribution:\n",
      "{\n",
      "  \"Treatment\": 3154\n",
      "}\n",
      "\n",
      "Data:\n",
      "       type  class_id class_name    bbox_x    bbox_y    bbox_w    bbox_h  \\\n",
      "0     train         0  Treatment  0.695312  0.281250  0.296875  0.710938   \n",
      "1     train         0  Treatment  0.000000  0.320312  0.562500  0.671875   \n",
      "2     train         0  Treatment  0.000000  0.000000  0.054688  0.187500   \n",
      "3     train         0  Treatment  0.398438  0.000000  0.117188  0.164062   \n",
      "4     train         0  Treatment  0.000000  0.000000  0.359375  0.406250   \n",
      "...     ...       ...        ...       ...       ...       ...       ...   \n",
      "3149    val         0  Treatment  0.000000  0.234375  0.382812  0.757812   \n",
      "3150    val         0  Treatment  0.617188  0.062500  0.375000  0.359375   \n",
      "3151    val         0  Treatment  0.632812  0.492188  0.359375  0.500000   \n",
      "3152    val         0  Treatment  0.617188  0.000000  0.109375  0.109375   \n",
      "3153    val         0  Treatment  0.070312  0.000000  0.921875  0.992188   \n",
      "\n",
      "                                               filename  width  height  \\\n",
      "0     Placer1_2022to2023_NDVI_Difference_chip_3712_5...    128     128   \n",
      "1     ElDorado1_2022to2023_NDVI_Difference_chip_3584...    128     128   \n",
      "2     ElDorado1_2022to2023_NDVI_Difference_chip_2944...    128     128   \n",
      "3     ElDorado1_2022to2023_NDVI_Difference_chip_3840...    128     128   \n",
      "4     ElDorado1_2022to2023_NDVI_Difference_chip_3840...    128     128   \n",
      "...                                                 ...    ...     ...   \n",
      "3149  ElDorado2_2022to2023_NDVI_Difference_chip_1664...    128     128   \n",
      "3150  ElDorado2_2022to2023_NDVI_Difference_chip_1664...    128     128   \n",
      "3151  ElDorado2_2022to2023_NDVI_Difference_chip_1664...    128     128   \n",
      "3152  ElDorado2_2022to2023_NDVI_Difference_chip_896_...    128     128   \n",
      "3153  Humboldt5_2022to2023_NDVI_Difference_chip_4096...    128     128   \n",
      "\n",
      "                                                   path  \\\n",
      "0     /home/joel/Dev/school/ssu-ai/ForestTreatment-C...   \n",
      "1     /home/joel/Dev/school/ssu-ai/ForestTreatment-C...   \n",
      "2     /home/joel/Dev/school/ssu-ai/ForestTreatment-C...   \n",
      "3     /home/joel/Dev/school/ssu-ai/ForestTreatment-C...   \n",
      "4     /home/joel/Dev/school/ssu-ai/ForestTreatment-C...   \n",
      "...                                                 ...   \n",
      "3149  /home/joel/Dev/school/ssu-ai/ForestTreatment-C...   \n",
      "3150  /home/joel/Dev/school/ssu-ai/ForestTreatment-C...   \n",
      "3151  /home/joel/Dev/school/ssu-ai/ForestTreatment-C...   \n",
      "3152  /home/joel/Dev/school/ssu-ai/ForestTreatment-C...   \n",
      "3153  /home/joel/Dev/school/ssu-ai/ForestTreatment-C...   \n",
      "\n",
      "                                               segments  \n",
      "0     0.6953125 0.9921875 0.7265625 0.46875 0.859375...  \n",
      "1     0.0 0.9921875 0.0 0.5546875 0.0625 0.5546875 0...  \n",
      "2     0.0 0.1875 0.0 0.0 0.046875 0.0 0.0546875 0.10...  \n",
      "3     0.3984375 0.0 0.515625 0.0 0.46875 0.1640625 0...  \n",
      "4     0.0 0.390625 0.0 0.0 0.28125 0.0 0.296875 0.07...  \n",
      "...                                                 ...  \n",
      "3149  0.0 0.9921875 0.0 0.234375 0.1015625 0.296875 ...  \n",
      "3150  0.6171875 0.2421875 0.671875 0.125 0.765625 0....  \n",
      "3151  0.6328125 0.671875 0.6640625 0.5546875 0.8125 ...  \n",
      "3152  0.6171875 0.078125 0.625 0.0 0.7265625 0.0 0.6...  \n",
      "3153  0.0703125 0.4609375 0.09375 0.390625 0.09375 0...  \n",
      "\n",
      "[3154 rows x 12 columns]\n",
      "\n"
     ]
    }
   ],
   "source": [
    "yolo_ds.summary()"
   ]
  },
  {
   "cell_type": "code",
   "execution_count": null,
   "metadata": {},
   "outputs": [],
   "source": []
  }
 ],
 "metadata": {
  "accelerator": "GPU",
  "colab": {
   "gpuType": "T4",
   "provenance": []
  },
  "kernelspec": {
   "display_name": "Python 3 (ipykernel)",
   "language": "python",
   "name": "python3"
  },
  "language_info": {
   "codemirror_mode": {
    "name": "ipython",
    "version": 3
   },
   "file_extension": ".py",
   "mimetype": "text/x-python",
   "name": "python",
   "nbconvert_exporter": "python",
   "pygments_lexer": "ipython3",
   "version": "3.10.12"
  }
 },
 "nbformat": 4,
 "nbformat_minor": 4
}
