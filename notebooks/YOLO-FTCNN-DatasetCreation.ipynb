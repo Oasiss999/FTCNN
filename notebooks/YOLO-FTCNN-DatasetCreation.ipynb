{
 "cells": [
  {
   "cell_type": "code",
   "execution_count": null,
   "metadata": {
    "scrolled": true
   },
   "outputs": [],
   "source": [
    "import pathlib\n",
    "from datetime import datetime\n",
    "import time\n",
    "\n",
    "import torch\n",
    "from torch import cuda\n",
    "\n",
    "import glob\n",
    "import json\n",
    "import os\n",
    "import shutil\n",
    "import sys\n",
    "import ast\n",
    "import random\n",
    "from pathlib import Path\n",
    "\n",
    "import numpy as np\n",
    "import pandas as pd\n",
    "import geopandas as gpd\n",
    "import skimage.io as io\n",
    "from shapely import Polygon\n",
    "from matplotlib import pyplot as plt\n",
    "from PIL import Image\n",
    "from torch import cuda\n",
    "import supervision as sv\n",
    "from ultralytics import YOLO\n",
    "from concurrent.futures import ThreadPoolExecutor, as_completed\n",
    "from tqdm.auto import tqdm, trange\n",
    "from importlib import reload\n",
    "\n",
    "# Clone FTCNN repo here: https://www.github.com/joeletho/FTCNN.git\n",
    "\n",
    "# Parent directory of cloned repo\n",
    "sys.path.append(CHANGE_ME)\n",
    "\n",
    "import ftcnn\n",
    "\n",
    "from ftcnn import ftcnn as ft"
   ]
  },
  {
   "cell_type": "code",
   "execution_count": null,
   "metadata": {},
   "outputs": [],
   "source": [
    "print(sys.version)"
   ]
  },
  {
   "cell_type": "code",
   "execution_count": null,
   "metadata": {},
   "outputs": [],
   "source": [
    "print(reload(ftcnn))"
   ]
  },
  {
   "cell_type": "code",
   "execution_count": null,
   "metadata": {},
   "outputs": [],
   "source": [
    "has_gpu = cuda.is_available()\n",
    "\n",
    "device = torch.device('cuda' if has_gpu else 'cpu')\n",
    "print(device)\n",
    "if has_gpu:\n",
    "    print(cuda.get_device_name(0))"
   ]
  },
  {
   "cell_type": "markdown",
   "metadata": {},
   "source": [
    "#### Example directory structure:\n",
    "```\n",
    "Root\n",
    "  ├── datasets\n",
    "  ├── FTCNN_YOLO\n",
    "  ├── models\n",
    "  ├── NDVI\n",
    "  ├── QGIS\n",
    "  ├── Readme.txt\n",
    "  ├── runs\n",
    "  ├── Shapefiles\n",
    "```"
   ]
  },
  {
   "cell_type": "code",
   "execution_count": null,
   "metadata": {
    "id": "glo7hYL73EVo"
   },
   "outputs": [],
   "source": [
    "path_map = {'ROOT': Path(CHANGE_ME_TO_YOUR_LOCAL_DIR)}\n",
    "path_map['NDVI'] = path_map['ROOT'] / 'NDVI' / 'NDVI Difference Rasters'\n",
    "path_map['SHAPE_FILES'] = path_map['ROOT'] / 'Shapefiles'"
   ]
  },
  {
   "cell_type": "code",
   "execution_count": null,
   "metadata": {},
   "outputs": [],
   "source": [
    "CHIP_SIZE = 128\n",
    "YEARS=(2022, 2023)\n",
    "PRETRAINED=True\n",
    "SPLIT_MODE='all'\n",
    "path_map['MODEL_NAME'] = f\"yolo_ftcnn_img-years={YEARS[0]}-{YEARS[1]}_geom-years=ALL_chipsz={CHIP_SIZE if CHIP_SIZE is not None else 'Default'}_{SPLIT_MODE}\"\n",
    "\n",
    "path_map['PROJECT_NAME'] = 'FTCNN_YOLO'"
   ]
  },
  {
   "cell_type": "code",
   "execution_count": null,
   "metadata": {},
   "outputs": [],
   "source": [
    "path_map['FTCNN'] = path_map['ROOT'] / path_map[\"PROJECT_NAME\"]\n",
    "\n",
    "path_map['FTCNN_DS'] = path_map['ROOT'] / 'datasets'\n",
    "path_map['FTCNN_DS_META'] = path_map['FTCNN_DS'] / 'meta'\n",
    "path_map['FTCNN_DS_CSV'] = path_map['FTCNN_DS_META'] / 'csv'\n",
    "path_map['FTCNN_DS_SHP'] = path_map['FTCNN_DS_META'] / 'shp'\n",
    "\n",
    "path_map['FTCNN_DS_MODEL'] = path_map['ROOT'] / 'datasets' / path_map['MODEL_NAME']\n",
    "path_map['FTCNN_DS_MODEL_META'] = path_map['FTCNN_DS_MODEL'] / 'meta'\n",
    "path_map['FTCNN_DS_MODEL_SHP'] = path_map['FTCNN_DS_MODEL_META'] / 'shp'\n",
    "path_map['FTCNN_DS_MODEL_CSV'] = path_map['FTCNN_DS_MODEL_META'] / 'csv'\n",
    "\n",
    "path_map['FTCNN_MODEL'] = path_map['FTCNN'] / path_map['MODEL_NAME']\n",
    "\n",
    "path_map['FTCNN_DATA'] = path_map['FTCNN_MODEL'] / 'meta'\n",
    "path_map['FTCNN_CONFIG_FILE'] = path_map['FTCNN_MODEL'] / 'config' / 'data.yaml'\n",
    "path_map['FTCNN_YOLO_DATA_FILE'] = path_map['FTCNN_DATA'] / 'yolo_ndvi_ds.csv'\n",
    "\n",
    "# Images and labels\n",
    "path_map['FTCNN_IMAGES'] = path_map['FTCNN_MODEL'] / 'images'\n",
    "path_map['FTCNN_LABELS'] = path_map['FTCNN_MODEL'] / 'labels'\n",
    "path_map['FTCNN_LABELS_GENERATED'] = path_map['FTCNN_LABELS'] / 'generated'\n",
    "\n",
    "path_map['FTCNN_CHIPS'] = path_map[\"FTCNN_IMAGES\"] / 'chips'\n",
    "path_map['FTCNN_PNGS'] = path_map[\"FTCNN_IMAGES\"] / 'png'\n",
    "path_map['FTCNN_TIFS'] = path_map[\"FTCNN_IMAGES\"] / 'tif'\n",
    "\n",
    "path_map['FTCNN_IMAGES_TRAIN'] = path_map['FTCNN_IMAGES'] / 'train'\n",
    "path_map['FTCNN_IMAGES_TEST'] = path_map['FTCNN_IMAGES'] / 'test'\n",
    "path_map['FTCNN_IMAGES_VAL'] = path_map['FTCNN_IMAGES'] / 'val'\n",
    "\n",
    "path_map['FTCNN_LABELS_TRAIN'] = path_map['FTCNN_LABELS'] / 'train'\n",
    "path_map['FTCNN_LABELS_TEST'] = path_map['FTCNN_LABELS'] / 'test'\n",
    "path_map['FTCNN_LABELS_VAL'] = path_map['FTCNN_LABELS'] / 'val'\n",
    "\n",
    "# Data\n",
    "path_map['PRED_SHP'] = path_map['SHAPE_FILES'] / 'ModelPredictions'\n",
    "\n",
    "# Zone 10\n",
    "path_map['SHPZ10_SHP'] = path_map['SHAPE_FILES'] / 'Treatments_UTMz10_Only_08-18-24' / 'Treatments_UTMz10_Only_08-18-24.shp'\n",
    "path_map['CSVZ10'] = path_map['FTCNN_DATA'] / 'Treatments_UTMz10.csv'\n",
    "path_map['CSVZ10_NORM'] = path_map['FTCNN_DATA'] / 'Treatments_UTMz10_normalized.csv'\n",
    "path_map['CSVZ10_CLEANED'] = path_map['FTCNN_DATA'] / 'Treatments_UTMz10_normalized_cleaned.csv'\n",
    "path_map['CSVZ10_CHIPPED'] = path_map['FTCNN_DATA'] / 'Treatments_UTMz10_normalized_chipped.csv'\n",
    "path_map['CSVZ10_CHIP_LABELS_UTM'] = path_map['FTCNN_DATA'] / 'Treatments_z10utm_chip_labels.csv'\n",
    "path_map['CSVZ10_CHIP_LABELS_PIXEL'] = path_map['FTCNN_DATA'] / 'Treatments_z10pixel_chip_labels.csv'\n",
    "path_map['CSVZ10_CHIP_LABELS_PIXEL_ENCODED'] = path_map['FTCNN_DATA'] / 'Treatments_z10pixel_chip_labels_encoded.csv'\n",
    "path_map['CSVZ10_CHIP_LABELS_PREYOLO'] = path_map['FTCNN_DATA'] / 'Treatments_z10pixel_chip_labels_encoded_preyolo.csv'\n",
    "path_map['SHPZ10_PRED_SHP'] = path_map['PRED_SHP'] / f\"Treatmentsz10_{path_map['MODEL_NAME']}.shp\"\n",
    "\n",
    "# Zone 11\n",
    "path_map['SHPZ11_SHP'] = path_map['SHAPE_FILES'] / 'Treatments_UTMz11_Only_08-18-24' / 'Treatments_UTMz11_Only_08-18-24.shp'\n",
    "path_map['CSVZ11'] = path_map['FTCNN_DATA'] / 'Treatments_UTMz11.csv'\n",
    "path_map['CSVZ11_NORM'] = path_map['FTCNN_DATA'] / 'Treatments_UTMz11_normalized.csv'\n",
    "path_map['CSVZ11_CLEANED'] = path_map['FTCNN_DATA'] / 'Treatments_UTMz11_normalized_cleaned.csv'\n",
    "path_map['CSVZ11_CHIPPED'] = path_map['FTCNN_DATA'] / 'Treatments_UTMz11_normalized_chipped.csv'\n",
    "path_map['CSVZ11_CHIP_LABELS_UTM'] = path_map['FTCNN_DATA'] / 'Treatments_z11utm_chip_labels.csv'\n",
    "path_map['CSVZ11_CHIP_LABELS_PIXEL'] = path_map['FTCNN_DATA'] / 'Treatments_z11pixel_chip_labels.csv'\n",
    "path_map['CSVZ11_CHIP_LABELS_PIXEL_ENCODED'] = path_map['FTCNN_DATA'] / 'Treatments_z11pixel_chip_labels_encoded.csv'\n",
    "path_map['CSVZ11_CHIP_LABELS_PREYOLO'] = path_map['FTCNN_DATA'] / 'Treatments_z11pixel_chip_labels_encoded_preyolo.csv'\n",
    "path_map['SHPZ11_PRED_SHP'] = path_map['PRED_SHP'] / f\"Treatmentsz11_{path_map['MODEL_NAME']}.shp\"\n"
   ]
  },
  {
   "cell_type": "code",
   "execution_count": null,
   "metadata": {
    "scrolled": true
   },
   "outputs": [],
   "source": [
    "print(\"Creating directory structure\")\n",
    "for name, path in path_map.items():\n",
    "    if isinstance(path, Path) and not path.suffix:\n",
    "        path = path.resolve()\n",
    "        path_map[name] = path\n",
    "        path.mkdir(parents=True, exist_ok=True)\n",
    "        print('  ',path)\n",
    "print(\"Complete\")"
   ]
  },
  {
   "cell_type": "code",
   "execution_count": null,
   "metadata": {},
   "outputs": [],
   "source": [
    "# Make custom class parser (if required)\n",
    "def classify(row):\n",
    "    geom = row.get('geometry')\n",
    "    return (\"0\", \"Treatment\") if geom is not None and not geom.is_empty and geom.area > 1 else (\"-1\", \"Background\")"
   ]
  },
  {
   "cell_type": "code",
   "execution_count": null,
   "metadata": {
    "scrolled": true
   },
   "outputs": [],
   "source": [
    "shpz10 = ftcnn.load_shapefile(path_map['SHPZ10_SHP'])\n",
    "print(shpz10.head())"
   ]
  },
  {
   "cell_type": "code",
   "execution_count": null,
   "metadata": {},
   "outputs": [],
   "source": [
    "# shpz10['StartYear'] = \"2022\"\n",
    "# shpz10['EndYear'] = \"2023\"\n",
    "\n",
    "# Filter Treatments by code\n",
    "shpz10 = shpz10[shpz10['TreatmentT'] == \"6\"] \n",
    "\n",
    "# Fixes naming error in the original shape file\n",
    "shpz10.loc[shpz10['Subregion'] == \"Humboldt\", \"Subregion\"] = 'Humboldt4'\n",
    "shpz10.head()"
   ]
  },
  {
   "cell_type": "code",
   "execution_count": null,
   "metadata": {},
   "outputs": [],
   "source": [
    "ftcnn.save_as_csv(shpz10, path_map['FTCNN_DS_CSV'] / f'base_all_years={YEARS[0]}to{YEARS[1]}' / 'Treatments_UTMz10_Only_08-18-24.csv', exist_ok=True)\n",
    "ftcnn.save_as_shp(shpz10, path_map['FTCNN_DS_SHP'] / f'base_all_years={YEARS[0]}to{YEARS[1]}'/ 'Treatments_UTMz10_Only_08-18-24.shp', exist_ok=True)"
   ]
  },
  {
   "cell_type": "code",
   "execution_count": null,
   "metadata": {
    "scrolled": true
   },
   "outputs": [],
   "source": [
    "gdf = ftcnn.preprocess_shapefile(\n",
    "    path_map['FTCNN_DS_SHP'] / 'base_all_years=2022to2023'/ 'Treatments_UTMz10_Only_08-18-24.shp',\n",
    "    id_column=\"Subregion\",\n",
    "    img_dir=path_map['NDVI'],\n",
    ")"
   ]
  },
  {
   "cell_type": "code",
   "execution_count": null,
   "metadata": {},
   "outputs": [],
   "source": [
    "ftcnn.save_as_csv(gdf, path_map['FTCNN_DS_CSV'] / f'preprocessed_all_years={YEARS[0]}to{YEARS[1]}'/ 'Treatments_UTMz10_Only_08-18-24_flattened.csv', exist_ok=True)\n",
    "ftcnn.save_as_shp(gdf, path_map['FTCNN_DS_SHP'] / f'preprocessed_all_years={YEARS[0]}to{YEARS[1]}'/ 'Treatments_UTMz10_Only_08-18-24_flattened.shp', exist_ok=True)"
   ]
  },
  {
   "cell_type": "code",
   "execution_count": null,
   "metadata": {},
   "outputs": [],
   "source": []
  },
  {
   "cell_type": "code",
   "execution_count": null,
   "metadata": {},
   "outputs": [],
   "source": [
    "# gdf, paths = ftcnn.make_ndvi_dataset(\n",
    "#     path_map['FTCNN_DS_SHP'] / 'base_all_years=2022to2023'/ 'Treatments_UTMz10_Only_08-18-24.shp',\n",
    "#     ndvi_dir=path_map['NDVI'],\n",
    "#     output_dir=path_map['FTCNN_DS_MODEL'],\n",
    "#     id_column=\"Subregion\",\n",
    "#     start_year_col=\"start_year\",\n",
    "#     end_year_col=\"end_year\",\n",
    "#     chip_size=CHIP_SIZE,\n",
    "#     clean_dest=True,\n",
    "#     xy_to_index=False,\n",
    "#     exist_ok=True,\n",
    "#     save_csv=True,\n",
    "#     save_shp=True,\n",
    "#     ignore_empty_geom=True,\n",
    "#     tif_to_png=True,\n",
    "#     leave=True,\n",
    "# )"
   ]
  },
  {
   "cell_type": "code",
   "execution_count": null,
   "metadata": {},
   "outputs": [],
   "source": [
    "print(reload(ftcnn.ftcnn))\n",
    "print(reload(ft))\n",
    "print(reload(ftcnn.utils))\n",
    "print(reload(ftcnn.modeling))\n",
    "print(reload(ftcnn.modeling.yolo))\n"
   ]
  },
  {
   "cell_type": "code",
   "execution_count": null,
   "metadata": {},
   "outputs": [],
   "source": [
    "yolo_ds,_ = ft.ndvi_to_yolo_dataset(\n",
    "    path_map['FTCNN_DS_SHP'] / 'base_all_years=2022to2023'/ 'Treatments_UTMz10_Only_08-18-24.shp',\n",
    "    ndvi_dir=path_map['NDVI'],\n",
    "    output_dir=path_map['FTCNN_DS_MODEL'],\n",
    "    id_column=\"Subregion\",\n",
    "    start_year_col=\"start_year\",\n",
    "    end_year_col=\"end_year\",\n",
    "    chip_size=CHIP_SIZE,\n",
    "    clean_dest=True,\n",
    "    xy_to_index=True,\n",
    "    exist_ok=True,\n",
    "    save_csv=True,\n",
    "    save_shp=True,\n",
    "    ignore_empty_geom=True,\n",
    "    generate_train_data=True,\n",
    "    tif_to_png=True,\n",
    "    split_mode=SPLIT_MODE,\n",
    "    shuffle=False,\n",
    ")"
   ]
  },
  {
   "cell_type": "code",
   "execution_count": null,
   "metadata": {},
   "outputs": [],
   "source": [
    "yolo_ds.summary()"
   ]
  },
  {
   "cell_type": "code",
   "execution_count": null,
   "metadata": {},
   "outputs": [],
   "source": []
  }
 ],
 "metadata": {
  "accelerator": "GPU",
  "colab": {
   "gpuType": "T4",
   "provenance": []
  },
  "kernelspec": {
   "display_name": "Python 3 (ipykernel)",
   "language": "python",
   "name": "python3"
  },
  "language_info": {
   "codemirror_mode": {
    "name": "ipython",
    "version": 3
   },
   "file_extension": ".py",
   "mimetype": "text/x-python",
   "name": "python",
   "nbconvert_exporter": "python",
   "pygments_lexer": "ipython3",
   "version": "3.10.12"
  }
 },
 "nbformat": 4,
 "nbformat_minor": 4
}
